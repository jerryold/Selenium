{
 "cells": [
  {
   "cell_type": "code",
   "execution_count": 43,
   "metadata": {},
   "outputs": [],
   "source": [
    "from selenium import webdriver\n",
    "from selenium.webdriver.common.keys import Keys #讓selenium使用按鍵\n",
    "from selenium.webdriver.common.by import By\n",
    "from selenium.webdriver.support.ui import WebDriverWait\n",
    "from selenium.webdriver.support import expected_conditions as EC\n",
    "\n",
    "import time"
   ]
  },
  {
   "cell_type": "code",
   "execution_count": 44,
   "metadata": {},
   "outputs": [
    {
     "name": "stdout",
     "output_type": "stream",
     "text": [
      "Dcard\n"
     ]
    }
   ],
   "source": [
    "PATH=\"C:/Users/jerryold/Desktop/Selenum/chromedriver.exe\" #瀏覽器所放置的位置(根據想要使用的去下載)\n",
    "driver=webdriver.Chrome(PATH)        #選擇selenium要使用的路徑\n",
    "driver.get(\"https://www.dcard.tw/f\") #控制selenium要前往的網址\n",
    "print(driver.title) #取得網頁title\n",
    "\n"
   ]
  },
  {
   "cell_type": "code",
   "execution_count": 45,
   "metadata": {},
   "outputs": [],
   "source": [
    "search=driver.find_element_by_name(\"query\") #尋找dcard搜尋欄,其name為query\n",
    "search.clear()#避免預設文字\n",
    "search.send_keys(\"台積電\")\n",
    "search.send_keys(Keys.RETURN)#按下Enter\n",
    "\n",
    "WebDriverWait(driver, 10).until(\n",
    "        EC.presence_of_element_located((By.CLASS_NAME, \"sc-1vxpqp0-0\")) #等待瀏覽器10秒鐘,根據看板class_name出現為止\n",
    "    )\n",
    "\n",
    "titles=driver.find_elements_by_class_name(\"tgn9uw-3\")\n",
    "for title in titles:\n",
    "    print(title.text)\n",
    "    \n",
    "time.sleep(5)\n",
    "# driver.quit() #網頁關掉\n"
   ]
  },
  {
   "cell_type": "code",
   "execution_count": 46,
   "metadata": {},
   "outputs": [],
   "source": [
    "link=driver.find_element_by_link_text(\"詢問台積電資料審核中\")#搜尋第一篇文件名稱\n",
    "link.click()#按下按鈕\n",
    "driver.back()#回到上一頁\n",
    "driver.forward()#回到下一頁"
   ]
  }
 ],
 "metadata": {
  "kernelspec": {
   "display_name": "Python 3",
   "language": "python",
   "name": "python3"
  },
  "language_info": {
   "codemirror_mode": {
    "name": "ipython",
    "version": 3
   },
   "file_extension": ".py",
   "mimetype": "text/x-python",
   "name": "python",
   "nbconvert_exporter": "python",
   "pygments_lexer": "ipython3",
   "version": "3.8.5"
  }
 },
 "nbformat": 4,
 "nbformat_minor": 4
}
