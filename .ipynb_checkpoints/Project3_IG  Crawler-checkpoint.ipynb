{
 "cells": [
  {
   "cell_type": "code",
   "execution_count": 25,
   "metadata": {},
   "outputs": [],
   "source": [
    "# 爬取ig關鍵字圖片\n",
    "from selenium import webdriver\n",
    "from selenium.webdriver.common.by import By\n",
    "from selenium.webdriver.support.ui import WebDriverWait\n",
    "from selenium.webdriver.support import expected_conditions as EC\n",
    "from selenium.webdriver.common.keys import Keys\n",
    "import time\n",
    "import os \n",
    "import wget #網路下載東西"
   ]
  },
  {
   "cell_type": "code",
   "execution_count": 26,
   "metadata": {},
   "outputs": [],
   "source": [
    "PATH = \"C:/Users/jerryold/Desktop/Selenum/chromedriver.exe\"\n",
    "driver=webdriver.Chrome(PATH)\n",
    "driver.get(\"https://www.instagram.com/\")"
   ]
  },
  {
   "cell_type": "code",
   "execution_count": 27,
   "metadata": {},
   "outputs": [],
   "source": [
    "username = WebDriverWait(driver, 10).until(\n",
    "    EC.presence_of_element_located((By.NAME, \"username\")) #根據網頁出現username的欄位才會執行\n",
    ")\n",
    "\n",
    "password = WebDriverWait(driver, 10).until(\n",
    "    EC.presence_of_element_located((By.NAME, \"password\"))#根據網頁出現password的欄位才會執行\n",
    ")\n",
    "\n",
    "login=driver.find_element_by_xpath('//*[@id=\"loginForm\"]/div/div[3]/button')#取得登入按鈕xpath\n",
    "\n",
    "username.clear()\n",
    "password.clear()\n",
    "username.send_keys('jerry860602') #輸入ig帳號\n",
    "password.send_keys('***********') #輸入ig密碼\n",
    "login.click()#按下登入按鈕\n",
    "\n",
    "\n",
    "search = WebDriverWait(driver, 10).until(\n",
    "    EC.presence_of_element_located((By.XPATH, '//*[@id=\"react-root\"]/section/nav/div[2]/div/div/div[2]/input'))#根據網頁出現password的欄位才會執行\n",
    ")\n",
    "keyword='#nba'\n",
    "search.send_keys(keyword)#輸入關鍵字\n",
    "time.sleep(1)\n",
    "search.send_keys(Keys.RETURN)#按下ENTER鍵\n",
    "time.sleep(1)\n",
    "search.send_keys(Keys.RETURN)#按下ENTER鍵\n",
    "\n",
    "\n"
   ]
  },
  {
   "cell_type": "code",
   "execution_count": 28,
   "metadata": {},
   "outputs": [
    {
     "name": "stdout",
     "output_type": "stream",
     "text": [
      "100% [............................................................................] 278416 / 278416"
     ]
    }
   ],
   "source": [
    "WebDriverWait(driver, 10).until(\n",
    "    EC.presence_of_element_located((By.CLASS_NAME, \"FFVAD\"))#根據網頁class_name>>FFVAD\n",
    ")\n",
    "for i in range(5):\n",
    "    driver.execute_script(\"window.scrollTo(0,document.body.scrollHeight);\")#執行javascript程式碼,滑動滾輪到底\n",
    "    time.sleep(5)\n",
    "    \n",
    "imgs=driver.find_elements_by_class_name(\"FFVAD\")#ig圖片共通點為class_name>>FFVAD\n",
    "\n",
    "filepath=os.path.join(keyword) #創建資料夾\n",
    "os.mkdir(filepath)\n",
    "\n",
    "count=0\n",
    "for img in imgs:\n",
    "    save_as=os.path.join(filepath,keyword+str(count)+'.jpg')\n",
    "#   print(img.get_attribute(\"src\"))#取得圖片src屬性\n",
    "    wget.download(img.get_attribute(\"src\"),save_as)\n",
    "    count+=1\n",
    "    \n"
   ]
  }
 ],
 "metadata": {
  "kernelspec": {
   "display_name": "Python 3",
   "language": "python",
   "name": "python3"
  },
  "language_info": {
   "codemirror_mode": {
    "name": "ipython",
    "version": 3
   },
   "file_extension": ".py",
   "mimetype": "text/x-python",
   "name": "python",
   "nbconvert_exporter": "python",
   "pygments_lexer": "ipython3",
   "version": "3.8.5"
  }
 },
 "nbformat": 4,
 "nbformat_minor": 4
}
